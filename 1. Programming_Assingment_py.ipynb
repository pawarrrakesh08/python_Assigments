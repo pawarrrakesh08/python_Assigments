{
 "cells": [
  {
   "cell_type": "markdown",
   "id": "c2c5a124",
   "metadata": {},
   "source": [
    "### 1. Write a Python program to print \"Hello Python\"?"
   ]
  },
  {
   "cell_type": "code",
   "execution_count": 1,
   "id": "d0610689",
   "metadata": {},
   "outputs": [
    {
     "name": "stdout",
     "output_type": "stream",
     "text": [
      "Hello Python\n"
     ]
    }
   ],
   "source": [
    "print(\"Hello Python\")"
   ]
  },
  {
   "cell_type": "markdown",
   "id": "a0bd1c46",
   "metadata": {},
   "source": [
    "### 2. Write a Python program to do arithmetical operations addition and division.?"
   ]
  },
  {
   "cell_type": "code",
   "execution_count": 2,
   "id": "818143df",
   "metadata": {},
   "outputs": [
    {
     "name": "stdout",
     "output_type": "stream",
     "text": [
      "Enter the 1st number: 15\n",
      "Enter the 2nd number: 15\n",
      "The Addition of the numbers:  30\n",
      "The Division of the numbers:  1.0\n"
     ]
    }
   ],
   "source": [
    "# Store the input numbers\n",
    "num1 = int(input('Enter the 1st number: '))\n",
    "num2 = int(input('Enter the 2nd number: '))\n",
    "\n",
    "# Addition of the two numbers\n",
    "addn = num1 + num2\n",
    "\n",
    "# Division of the numbers\n",
    "divn = num1/num2\n",
    "\n",
    "print('The Addition of the numbers: ', addn)\n",
    "print('The Division of the numbers: ', divn)\n"
   ]
  },
  {
   "cell_type": "markdown",
   "id": "5a6752fe",
   "metadata": {},
   "source": [
    "### 3. Write a Python program to find the area of a triangle?"
   ]
  },
  {
   "cell_type": "markdown",
   "id": "95d39771",
   "metadata": {},
   "source": [
    "##### 1st Method: Area of triangle (A = (Base*height)/2)"
   ]
  },
  {
   "cell_type": "code",
   "execution_count": 3,
   "id": "f4173fa9",
   "metadata": {},
   "outputs": [
    {
     "name": "stdout",
     "output_type": "stream",
     "text": [
      "Enter the base of triangle: 4\n",
      "Enter the height of triangle: 5\n",
      "Area of Triangle is:  10.0\n"
     ]
    }
   ],
   "source": [
    "base = float(input('Enter the base of triangle: '))\n",
    "height = float(input('Enter the height of triangle: '))\n",
    "area_triangle = (base*height)/2\n",
    "print('Area of Triangle is: ', area_triangle)"
   ]
  },
  {
   "cell_type": "markdown",
   "id": "3233b740",
   "metadata": {},
   "source": [
    "##### 2nd Method: Three sides given - Formula Area_of_triangle = (s*(s-a) *(s-b) *(s-c))-1/2"
   ]
  },
  {
   "cell_type": "code",
   "execution_count": 4,
   "id": "59be4b88",
   "metadata": {},
   "outputs": [
    {
     "name": "stdout",
     "output_type": "stream",
     "text": [
      "Enter the first side: 3\n",
      "enter the Second side: 5\n",
      "enter the third side: 6\n",
      "Area of Triangle is:  7.483314773547883\n"
     ]
    }
   ],
   "source": [
    "#Calculate the perimeter:- s = (a+b+c)/2\n",
    "\n",
    "a = float(input('Enter the first side: '))\n",
    "b = float(input('enter the Second side: '))\n",
    "c = float(input('enter the third side: '))\n",
    "s = (a+b+c)/2\n",
    "area = (s*(s-a) *(s-b) *(s-c)) **0.5\n",
    "print ('Area of Triangle is: ', area)"
   ]
  },
  {
   "cell_type": "markdown",
   "id": "f278e658",
   "metadata": {},
   "source": [
    "### 4. Write a Python program to swap two variables?"
   ]
  },
  {
   "cell_type": "code",
   "execution_count": 5,
   "id": "1ea763f0",
   "metadata": {},
   "outputs": [
    {
     "name": "stdout",
     "output_type": "stream",
     "text": [
      "Enter the value of x: 15\n",
      "Enter the value of y : 75\n",
      "The value of x after swapping: 75\n",
      "The value of y after swapping: 15\n"
     ]
    }
   ],
   "source": [
    "# Store the number\n",
    "x= input('Enter the value of x: ')\n",
    "y= input('Enter the value of y : ')\n",
    "x, y = y, x\n",
    "print ('The value of x after swapping: {}'. format(x))\n",
    "print ('The value of y after swapping: {}'. format(y))"
   ]
  },
  {
   "cell_type": "markdown",
   "id": "85ce2f49",
   "metadata": {},
   "source": [
    "### 5. Write a Python program to generate a random number?"
   ]
  },
  {
   "cell_type": "code",
   "execution_count": 6,
   "id": "599c77a2",
   "metadata": {},
   "outputs": [
    {
     "name": "stdout",
     "output_type": "stream",
     "text": [
      "Enter the Start number: 458\n",
      "Enter the end number: 898\n",
      "The random number between 458 & 898 is : 558\n"
     ]
    }
   ],
   "source": [
    "# Below code will generate the number between start number to end number\n",
    "#random module\n",
    "import random\n",
    "x= int(input('Enter the Start number: '))\n",
    "y= int(input('Enter the end number: '))\n",
    "print ('The random number between', x,'&',y,'is :',random.randint(x, y))"
   ]
  }
 ],
 "metadata": {
  "kernelspec": {
   "display_name": "Python 3 (ipykernel)",
   "language": "python",
   "name": "python3"
  },
  "language_info": {
   "codemirror_mode": {
    "name": "ipython",
    "version": 3
   },
   "file_extension": ".py",
   "mimetype": "text/x-python",
   "name": "python",
   "nbconvert_exporter": "python",
   "pygments_lexer": "ipython3",
   "version": "3.9.12"
  }
 },
 "nbformat": 4,
 "nbformat_minor": 5
}
